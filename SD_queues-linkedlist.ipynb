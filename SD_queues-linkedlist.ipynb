{
 "cells": [
  {
   "cell_type": "markdown",
   "metadata": {
    "collapsed": false
   },
   "source": [
    "### 2. Queues (antrian)\n",
    "\n",
    "berbeda dengan stack, queue memiliki konsep FIFO (First In First Out). baris terdepan disebut *front* dan baris terakhir disebut dengan *rear*.\n",
    "\n",
    "[1,2,3,4,5,6,7,8,9]\n",
    "\n",
    "front : 1, rear : 9"
   ]
  },
  {
   "cell_type": "markdown",
   "metadata": {
    "collapsed": false
   },
   "source": [
    "Operasi yang digunakan dalam queue:\n",
    "* enQueue : menambahkan data pada barisan depan\n",
    "* deQueue : menghapus data (mengurangi antrian)"
   ]
  },
  {
   "cell_type": "code",
   "execution_count": 1,
   "metadata": {
    "collapsed": false
   },
   "outputs": [
   ],
   "source": [
    "def createQueue():\n",
    "    q=[]\n",
    "def enqueue(q,data):\n",
    "    q.insert(0,data)\n",
    "    return (q)\n",
    "def dequeue(q):\n",
    "    data=q.pop()\n",
    "    return (data)\n",
    "def isEmpty(q):\n",
    "    return(q==[])\n",
    "def size(q):\n",
    "    return (len(q))"
   ]
  },
  {
   "cell_type": "markdown",
   "metadata": {
    "collapsed": false
   },
   "source": [
    "salah satu contoh penerapan queue adalah permainan ular naga. Dimana baris terakhir yang tertangkap atau keluar dari antrian saat lagu selesai dinyanyikan."
   ]
  },
  {
   "cell_type": "code",
   "execution_count": 2,
   "metadata": {
    "collapsed": false
   },
   "outputs": [
    {
     "name": "stdout",
     "output_type": "stream",
     "text": [
      "['A', 'B', 'C', 'D']\n",
      "0 . ['D', 'A', 'B', 'C']\n",
      "1 . ['C', 'D', 'A', 'B']\n",
      "2 . ['B', 'C', 'D', 'A']\n",
      "out : A\n",
      "0 . ['D', 'B', 'C']\n",
      "1 . ['C', 'D', 'B']\n",
      "2 . ['B', 'C', 'D']\n",
      "out : D\n",
      "0 . ['C', 'B']\n",
      "1 . ['B', 'C']\n",
      "2 . ['C', 'B']\n",
      "out : B\n",
      "last : C\n"
     ]
    }
   ],
   "source": [
    "def ularNaga(q):\n",
    "    print(q)\n",
    "    while not (isEmpty(q)) and (size(q)!=1):\n",
    "        for i in range (3):\n",
    "            temp=dequeue(q)\n",
    "            enqueue(q,temp)\n",
    "            print(i,'.',q)\n",
    "        print('out :',dequeue(q))\n",
    "    print('last :',dequeue(q))\n",
    "\n",
    "q=['A','B','C','D']\n",
    "ularNaga(q)"
   ]
  },
  {
   "cell_type": "markdown",
   "metadata": {
    "collapsed": false
   },
   "source": [
    "### 3. Deque\n",
    "\n",
    "hampir sama dengan queue dimana terdapat front dan rear. yang membedakan dari queue yaitu konsep deque bisa menambah ataupun mengurangi data di barisan depan maupun akhir."
   ]
  },
  {
   "cell_type": "markdown",
   "metadata": {
    "collapsed": false
   },
   "source": [
    "method yang diterapkan dalam deque:\n",
    "* deque()\n",
    "* addFront : menambah barisan depan\n",
    "* addRear : menambah baris akhir\n",
    "* removeFront : menghapus baris depan\n",
    "* removeRear : menghapus baris akhir\n",
    "* isEmpty\n",
    "* size"
   ]
  },
  {
   "cell_type": "code",
   "execution_count": 3,
   "metadata": {
    "collapsed": false
   },
   "outputs": [
   ],
   "source": [
    "def deque():\n",
    "    d=[]\n",
    "    return (d)\n",
    "def addFront(d,data):\n",
    "    d.insert(0,data)\n",
    "    return (d)\n",
    "def addRear(d,data):\n",
    "    d.append(data)\n",
    "    return (d)\n",
    "def removeRear(d):\n",
    "    data=d.pop()\n",
    "    return(data)\n",
    "def removeFront(d):\n",
    "    data=d.pop(0)\n",
    "    return(data)\n",
    "def isEmpty(d):\n",
    "    return (d==[])\n",
    "def size(d):\n",
    "    return(len(d))"
   ]
  },
  {
   "cell_type": "markdown",
   "metadata": {
    "collapsed": false
   },
   "source": [
    "salah satu contoh penerapan deque adalah pengecekan palindrom."
   ]
  },
  {
   "cell_type": "code",
   "execution_count": 4,
   "metadata": {
    "collapsed": false
   },
   "outputs": [
    {
     "name": "stdout",
     "output_type": "stream",
     "text": [
      "['A', 'K', 'U']\n",
      "False\n"
     ]
    }
   ],
   "source": [
    "def cekPalindrom(string):\n",
    "    palindrom=deque()\n",
    "    for i in string:\n",
    "        addRear(palindrom,i)\n",
    "    print(palindrom)\n",
    "    while size(palindrom)>1:\n",
    "        if removeFront(palindrom)==removeRear(palindrom):\n",
    "            print(palindrom)\n",
    "        else:\n",
    "            return False\n",
    "    if size(palindrom)==1:\n",
    "        return True\n",
    "\n",
    "print(cekPalindrom('AKU'))"
   ]
  },
  {
   "cell_type": "markdown",
   "metadata": {
    "collapsed": false
   },
   "source": [
    "## Class\n",
    "\n",
    "merupakan type data buatan sendiri yang memiliki value dan juga method."
   ]
  },
  {
   "cell_type": "markdown",
   "metadata": {
    "collapsed": false
   },
   "source": [
    "istilah-istilah dalam class:\n",
    "* class\n",
    "* object : variabel type data\n",
    "* state/property : nilai dari bagian class\n",
    "* method : fungsi yang melekat pada class\n",
    "* instance : objek yang telah dibuat (instansiasi class)\n",
    "* self : menunjuk pada object\n",
    "* override : mere-definisikan fungsi yang sudah ada di python"
   ]
  },
  {
   "cell_type": "markdown",
   "metadata": {
    "collapsed": false
   },
   "source": [
    "salah satu contoh penggunaan class yaitu Bilangan Kompleks dimana memiliki bilangan real dan bilangan imajiner"
   ]
  },
  {
   "cell_type": "code",
   "execution_count": 5,
   "metadata": {
    "collapsed": false
   },
   "outputs": [
   ],
   "source": [
    "class BilanganKompleks:\n",
    "    def __init__(self,a,b):\n",
    "        self.real=a\n",
    "        self.im=b\n",
    "    def display(self):\n",
    "        a=self.real\n",
    "        b=self.im\n",
    "        print(a,'+',b,'i')\n",
    "    def __str__(self):\n",
    "        return str(self.real)+'+'+str(self.im)+'i'\n",
    "    def addNum(self,a,b):\n",
    "        self.real=a.real+b.real\n",
    "        self.im=a.im+b.im\n",
    "    def addNum2(self,num):\n",
    "        self.real=self.real+num.real\n",
    "        self.im=self.im+num.im\n",
    "    def addKompleks(self,obj):\n",
    "        a=self.real+obj.real\n",
    "        b=self.im+obj.im\n",
    "        return BilanganKompleks(a,b)\n",
    "    def __add__(self,obj):\n",
    "        a=self.real+obj.real\n",
    "        b=self.im+obj.im\n",
    "        return BilanganKompleks(a,b)\n",
    "    def __mul__(self,obj):\n",
    "        a=self.real\n",
    "        b=self.im\n",
    "        c=obj.real\n",
    "        d=obj.im\n",
    "        hasilreal=(a*c)-(b*d)\n",
    "        hasilim=(a*d)+(b*c)\n",
    "        return BilanganKompleks(hasilreal,hasilim)"
   ]
  },
  {
   "cell_type": "code",
   "execution_count": 6,
   "metadata": {
    "collapsed": false
   },
   "outputs": [
    {
     "name": "stdout",
     "output_type": "stream",
     "text": [
      "4 + 6 i\n"
     ]
    }
   ],
   "source": [
    "data=BilanganKompleks(4,6)\n",
    "data.display()"
   ]
  },
  {
   "cell_type": "code",
   "execution_count": 7,
   "metadata": {
    "collapsed": false
   },
   "outputs": [
    {
     "name": "stdout",
     "output_type": "stream",
     "text": [
      "6\n"
     ]
    }
   ],
   "source": [
    "print(data.im)"
   ]
  },
  {
   "cell_type": "markdown",
   "metadata": {
    "collapsed": false
   },
   "source": [
    "Override 'print'"
   ]
  },
  {
   "cell_type": "code",
   "execution_count": 8,
   "metadata": {
    "collapsed": false
   },
   "outputs": [
    {
     "name": "stdout",
     "output_type": "stream",
     "text": [
      "4+6i\n"
     ]
    }
   ],
   "source": [
    "print(data)"
   ]
  },
  {
   "cell_type": "markdown",
   "metadata": {
    "collapsed": false
   },
   "source": [
    "penjumlahan bilangan kompleks menggunakan method"
   ]
  },
  {
   "cell_type": "code",
   "execution_count": 10,
   "metadata": {
    "collapsed": false
   },
   "outputs": [
    {
     "name": "stdout",
     "output_type": "stream",
     "text": [
      "6+11i\n",
      "6+11i\n",
      "8+16i\n"
     ]
    }
   ],
   "source": [
    "data1=BilanganKompleks(4,6)\n",
    "data2=BilanganKompleks(2,5)\n",
    "data3=BilanganKompleks(0,0)\n",
    "data3.addNum(data1,data2)\n",
    "print(data3)\n",
    "data1.addNum2 (data2)\n",
    "print(data1)\n",
    "jumlah=data1.addKompleks(data2)\n",
    "print(jumlah)"
   ]
  },
  {
   "cell_type": "markdown",
   "metadata": {
    "collapsed": false
   },
   "source": [
    "Override 'add'"
   ]
  },
  {
   "cell_type": "code",
   "execution_count": 11,
   "metadata": {
    "collapsed": false
   },
   "outputs": [
    {
     "name": "stdout",
     "output_type": "stream",
     "text": [
      "6+11i\n"
     ]
    }
   ],
   "source": [
    "data1=BilanganKompleks(4,6)\n",
    "data2=BilanganKompleks(2,5)\n",
    "print(data1+data2)"
   ]
  },
  {
   "cell_type": "markdown",
   "metadata": {
    "collapsed": false
   },
   "source": [
    "Override 'mul'"
   ]
  },
  {
   "cell_type": "code",
   "execution_count": 12,
   "metadata": {
    "collapsed": false
   },
   "outputs": [
    {
     "name": "stdout",
     "output_type": "stream",
     "text": [
      "-22+32i\n"
     ]
    }
   ],
   "source": [
    "data1=BilanganKompleks(4,6)\n",
    "data2=BilanganKompleks(2,5)\n",
    "print(data1*data2)"
   ]
  },
  {
   "cell_type": "markdown",
   "metadata": {
    "collapsed": false
   },
   "source": [
    "### Linked List\n",
    "\n",
    "merupakan class seperti list yang kita buat sendiri agar menciptakan type data yang dinamis (bisa menambah data, delete data, insert data)"
   ]
  },
  {
   "cell_type": "markdown",
   "metadata": {
    "collapsed": false
   },
   "source": [
    "#### Node\n",
    "\n",
    "melihat konsep penyimpanan data yang ada di dalam memori, terdapat head yang merupakan pointer pertama dari data tersebut kemudian dihubungkan dengan pointer next sampai end/null/none.\n",
    "\n",
    "yang harus ada pada node:\n",
    "* data\n",
    "* pointer next\n",
    "\n",
    "method yang digunakan dalam node :\n",
    "* constructor\n",
    "* getData : untuk mendapatkan informasi data pada node\n",
    "* getNext : untuk mendapatkan informasi data 'next' yang terhubung dengan node tsb\n",
    "* setData : untuk mengatur data pada node\n",
    "* setNext : untuk mengatur data 'next' pada node."
   ]
  },
  {
   "cell_type": "code",
   "execution_count": 13,
   "metadata": {
    "collapsed": false
   },
   "outputs": [
   ],
   "source": [
    "class Node:\n",
    "    def __init__(self, init_data): #constructor\n",
    "        self.data=init_data\n",
    "        self.next= None\n",
    "    def getData(self):\n",
    "        return self.data\n",
    "    def getNext(self):\n",
    "        return self.next\n",
    "    def setData(self, newdata):\n",
    "        self.data= newdata\n",
    "    def setNext(self, new_next):\n",
    "        self.next= new_next"
   ]
  },
  {
   "cell_type": "code",
   "execution_count": 14,
   "metadata": {
    "collapsed": false
   },
   "outputs": [
    {
     "name": "stdout",
     "output_type": "stream",
     "text": [
      "93\n",
      "20\n",
      "45\n"
     ]
    }
   ],
   "source": [
    "a=Node(93)\n",
    "b=Node(20)\n",
    "c=Node(45)\n",
    "print(a.getData())\n",
    "a.setNext(b)\n",
    "print(a.getNext().getData())\n",
    "b.setNext(c)\n",
    "print(b.getNext().getData())"
   ]
  },
  {
   "cell_type": "markdown",
   "metadata": {
    "collapsed": false
   },
   "source": [
    "#### Linked List\n",
    "\n",
    "merupakan gabungan dari beberapa node yang terhubung satu sama lain.\n",
    "\n",
    "yang harus ada dalam linked list adalah head (node pertama)\n",
    "\n",
    "method yang digunakan :\n",
    "* constructor\n",
    "* isEmpty\n",
    "* add \n",
    "* size\n",
    "* remove"
   ]
  },
  {
   "cell_type": "code",
   "execution_count": 17,
   "metadata": {
    "collapsed": false
   },
   "outputs": [
   ],
   "source": [
    "class LinkedList: #kumpulan node-node yang terhubung satu sama lain.\n",
    "    def __init__(self):\n",
    "        self.head=None\n",
    "    def isEmpty(self):\n",
    "        return self.head==None\n",
    "    def add(self,item):\n",
    "        temp=Node(item)\n",
    "        temp.setNext(self.head)\n",
    "        self.head=temp\n",
    "    def size(self):\n",
    "        current=self.head\n",
    "        count=0\n",
    "        while current!=None:\n",
    "            count+=1\n",
    "\n",
    "            current=current.getNext()\n",
    "        return count\n",
    "    def display(self):\n",
    "        current=self.head\n",
    "        while current!=None:\n",
    "            print(current.data)\n",
    "            current=current.getNext()\n",
    "    def search(self,item):\n",
    "        found=False\n",
    "        current=self.head\n",
    "        count=0\n",
    "        while current!=None and not found:\n",
    "            count+=1\n",
    "            if current.getData()==item:\n",
    "                print(count)\n",
    "                found=True\n",
    "            current=current.getNext()\n",
    "        return found\n",
    "    def remove(self,item):\n",
    "        current=self.head\n",
    "        previous=None\n",
    "        found=False\n",
    "        while not found:\n",
    "            if current.getData()==item:\n",
    "                found=True\n",
    "            else:\n",
    "                previous=current\n",
    "                current=current.getNext()\n",
    "        previous.setNext(current.getNext())"
   ]
  },
  {
   "cell_type": "code",
   "execution_count": 18,
   "metadata": {
    "collapsed": false
   },
   "outputs": [
    {
     "name": "stdout",
     "output_type": "stream",
     "text": [
      "7\n",
      "8\n",
      "34\n"
     ]
    }
   ],
   "source": [
    "mylist=LinkedList()\n",
    "mylist.add(34)\n",
    "mylist.add(8)\n",
    "mylist.add(7)\n",
    "mylist.display()"
   ]
  },
  {
   "cell_type": "code",
   "execution_count": 20,
   "metadata": {
    "collapsed": false
   },
   "outputs": [
    {
     "name": "stdout",
     "output_type": "stream",
     "text": [
      "7\n",
      "34\n"
     ]
    }
   ],
   "source": [
    "mylist.remove(8)\n",
    "mylist.display()"
   ]
  },
  {
   "cell_type": "code",
   "execution_count": 0,
   "metadata": {
    "collapsed": false
   },
   "outputs": [
   ],
   "source": [
   ]
  }
 ],
 "metadata": {
  "kernelspec": {
   "display_name": "Python 3 (Ubuntu Linux)",
   "language": "python",
   "name": "python3"
  },
  "language_info": {
   "codemirror_mode": {
    "name": "ipython",
    "version": 3
   },
   "file_extension": ".py",
   "mimetype": "text/x-python",
   "name": "python",
   "nbconvert_exporter": "python",
   "pygments_lexer": "ipython3",
   "version": "3.6.7"
  }
 },
 "nbformat": 4,
 "nbformat_minor": 0
}